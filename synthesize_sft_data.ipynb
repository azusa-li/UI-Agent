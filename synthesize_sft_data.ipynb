{
 "cells": [
  {
   "cell_type": "markdown",
   "metadata": {},
   "source": [
    "# 第一步，导入用户标注数据，下载对应的axtree，同时格式化并根据每个step中的path去retrieve出node"
   ]
  },
  {
   "cell_type": "code",
   "execution_count": 33,
   "metadata": {},
   "outputs": [
    {
     "name": "stdout",
     "output_type": "stream",
     "text": [
      "['Kyle.json', 'Im.json', 'Cyberpunk.json', 'dcynsd.json', 'Siing.json', 'Kyle..json', 'sk.json', 'cceatmore_new.json', 'cceatmore.json', 'Jingqiu.json', 'HATBTBS.json']\n"
     ]
    }
   ],
   "source": [
    "import json\n",
    "import os\n",
    "import pandas as pd\n",
    "\n",
    "user_annotate_dir = \"./query_results3\"\n",
    "all_user_annotate_files = os.listdir(user_annotate_dir)\n",
    "\n",
    "print(all_user_annotate_files)"
   ]
  },
  {
   "cell_type": "code",
   "execution_count": 34,
   "metadata": {},
   "outputs": [
    {
     "name": "stdout",
     "output_type": "stream",
     "text": [
      "The autoreload extension is already loaded. To reload it, use:\n",
      "  %reload_ext autoreload\n"
     ]
    }
   ],
   "source": [
    "%load_ext autoreload\n",
    "%autoreload 1\n",
    "%aimport utils\n",
    "\n",
    "from utils import *"
   ]
  },
  {
   "cell_type": "code",
   "execution_count": 35,
   "metadata": {},
   "outputs": [],
   "source": [
    "# 建立存储axtree的文件夹，一共三种，raw_axtree, formatted_axtree, retrieved_axtree\n",
    "\n",
    "user_name = \"Cyberpunk\"\n",
    "\n",
    "raw_axtree_dir = \"./raw_axtree\"\n",
    "formatted_axtree_dir = \"./formatted_axtree\"\n",
    "retrieved_axtree_dir = \"./retrieved_axtree\"\n",
    "\n",
    "if not os.path.exists(raw_axtree_dir):\n",
    "    os.makedirs(raw_axtree_dir)\n",
    "if not os.path.exists(formatted_axtree_dir):\n",
    "    os.makedirs(formatted_axtree_dir)\n",
    "if not os.path.exists(retrieved_axtree_dir):\n",
    "    os.makedirs(retrieved_axtree_dir)\n"
   ]
  },
  {
   "cell_type": "code",
   "execution_count": 36,
   "metadata": {},
   "outputs": [],
   "source": [
    "# 读取用户文件\n",
    "# 这里的user_annotate_data是一个列表，列表中的每个元素是一个字典，每个字典都是一个完整的任务标注。\n",
    "\n",
    "user_annotate_file = os.path.join(user_annotate_dir, user_name + \".json\")\n",
    "with open(user_annotate_file, \"r\") as f:\n",
    "    user_annotate_data = json.load(f)"
   ]
  },
  {
   "cell_type": "code",
   "execution_count": 38,
   "metadata": {},
   "outputs": [
    {
     "name": "stdout",
     "output_type": "stream",
     "text": [
      "Processing task 0 of 50\n"
     ]
    },
    {
     "name": "stdout",
     "output_type": "stream",
     "text": [
      "Processing task 1 of 50\n",
      "No node found in path ['html', 'body', 'div', 'div', 'section', 'div', 'div', 'div', 'div', 'div', 'section', 'div', 'ul', 'li', 'a', 'div'], Cyberpunk, 1, 4\n",
      "Processing task 2 of 50\n",
      "Processing task 3 of 50\n",
      "Processing task 4 of 50\n",
      "Processing task 5 of 50\n",
      "Processing task 6 of 50\n",
      "Processing task 7 of 50\n",
      "Processing task 8 of 50\n",
      "Processing task 9 of 50\n",
      "Processing task 10 of 50\n",
      "Processing task 11 of 50\n",
      "Processing task 12 of 50\n",
      "Processing task 13 of 50\n",
      "Processing task 14 of 50\n",
      "No node found in path ['html', 'body', 'div', 'div', 'div', 'div', 'div', 'div', 'div', 'div', 'div', 'div', 'div', 'section', 'div', 'div', 'div', 'div', 'div', 'ul', 'li', 'section', 'div', 'h2', 'a'], Cyberpunk, 14, 5\n",
      "Processing task 15 of 50\n",
      "Processing task 16 of 50\n",
      "Processing task 17 of 50\n",
      "Processing task 18 of 50\n",
      "Processing task 19 of 50\n",
      "Processing task 20 of 50\n",
      "Processing task 21 of 50\n",
      "No node found in path ['html', 'body', 'div', 'div', 'div', 'div', 'div', 'div', 'div', 'div', 'div', 'div', 'div', 'section', 'div', 'div', 'div', 'div', 'div', 'ul', 'li', 'section', 'div', 'h2', 'a'], Cyberpunk, 21, 5\n",
      "Processing task 22 of 50\n",
      "Processing task 23 of 50\n",
      "Processing task 24 of 50\n",
      "Processing task 25 of 50\n",
      "Processing task 26 of 50\n",
      "Processing task 27 of 50\n",
      "Processing task 28 of 50\n",
      "Processing task 29 of 50\n",
      "Processing task 30 of 50\n",
      "Processing task 31 of 50\n",
      "Processing task 32 of 50\n",
      "Processing task 33 of 50\n",
      "Processing task 34 of 50\n",
      "Processing task 35 of 50\n",
      "No node found in path ['html', 'body', 'div', 'div', 'div', 'div', 'div', 'div', 'div', 'header', 'div', 'div', 'div', 'div', 'button', 'span'], Cyberpunk, 35, 5\n",
      "No node found in path ['html', 'body', 'div', 'div', 'div', 'div', 'div', 'div', 'div', 'header', 'div', 'div', 'div', 'div', 'button', 'span'], Cyberpunk, 35, 6\n",
      "Processing task 36 of 50\n",
      "Processing task 37 of 50\n",
      "Processing task 38 of 50\n",
      "Processing task 39 of 50\n",
      "Processing task 40 of 50\n",
      "Processing task 41 of 50\n",
      "Processing task 42 of 50\n",
      "Processing task 43 of 50\n",
      "Processing task 44 of 50\n",
      "Processing task 45 of 50\n",
      "Processing task 46 of 50\n",
      "Processing task 47 of 50\n",
      "Processing task 48 of 50\n",
      "Processing task 49 of 50\n",
      "./query_results3/Cyberpunk_new.json\n",
      "axtid_cnt: 170, node_not_found_cnt: 5, total_cnt: 175\n"
     ]
    }
   ],
   "source": [
    "# 遍历user_annotate_data，对每个任务标注，生成axtree，并存储到raw_axtree_dir中。\n",
    "import copy\n",
    "\n",
    "axtid_cnt = 0\n",
    "total_cnt = 0\n",
    "not_found_cnt = 0\n",
    "\n",
    "new_user_annotate_data = []\n",
    "for task_num, task in enumerate(user_annotate_data):\n",
    "    print(f\"Processing task {task_num} of {len(user_annotate_data)}\")\n",
    "    new_task = copy.deepcopy(task)\n",
    "    steps_ls = json.loads(task[\"steps\"])\n",
    "    new_steps_ls = []\n",
    "    for step_num, step in enumerate(steps_ls):\n",
    "        new_step = copy.deepcopy(step)\n",
    "        if \"axTree\" in step.keys() and step[\"axTree\"] is not None:\n",
    "            axTree_url = step[\"axTree\"]\n",
    "            restore_raw_dir = f\"{raw_axtree_dir}/{user_name}/{task_num}\"\n",
    "            restore_raw_path = f\"{restore_raw_dir}/{step_num}.json\"\n",
    "            if not os.path.exists(restore_raw_dir):\n",
    "                os.makedirs(restore_raw_dir)\n",
    "            # 下载axTree, 并存储到restore_path中\n",
    "            download_json(axTree_url, restore_raw_path)\n",
    "            \n",
    "            # 将raw axtree格式化，生成formatted_axtree\n",
    "            restore_formatted_dir = f\"{formatted_axtree_dir}/{user_name}/{task_num}\"\n",
    "            restore_formatted_path = f\"{restore_formatted_dir}/{step_num}.txt\"\n",
    "            if not os.path.exists(restore_formatted_dir):\n",
    "                os.makedirs(restore_formatted_dir)\n",
    "            raw_axtree = json.load(open(restore_raw_path, \"r\"))\n",
    "            formatted_nodes = format_node(raw_axtree)\n",
    "            formatted_axtree = \"\"\n",
    "            for node in formatted_nodes:\n",
    "                node += '\\n'\n",
    "                formatted_axtree += node\n",
    "            with open(restore_formatted_path, \"w\") as f:\n",
    "                f.write(formatted_axtree)\n",
    "                \n",
    "            # 根据path找到axtree中的节点，并且生成retrieved_axtree\n",
    "            path = [\"html\"] + step[\"path\"].split('>')\n",
    "            retrieved_axtree = \"\"\n",
    "            raw_retrieved_axtree = find_node_by_path(raw_axtree, path)\n",
    "            if raw_retrieved_axtree is None:\n",
    "                print(f\"No node found in path {path}, {user_name}, {task_num}, {step_num}\")\n",
    "                not_found_cnt += 1\n",
    "                raw_retrieved_axtree = {}\n",
    "            \n",
    "            # 给new_step拼上id属性\n",
    "            axtid = raw_retrieved_axtree.get(\"attributes\", {}).get(\"data-imean-axt-id\", \"\")\n",
    "            if \"axtId\" in new_step:\n",
    "                if axtid != new_step[\"axtId\"]:\n",
    "                    print(f\"ID mismatch: existing={new_step['axtId']}, found={axtid}\")\n",
    "                    # 决定使用哪个ID或如何处理不匹配情况\n",
    "                assert axtid == new_step[\"axtId\"]\n",
    "            new_step[\"axtId\"] = axtid\n",
    "            if len(axtid) > 0:\n",
    "                axtid_cnt += 1\n",
    "            total_cnt += 1\n",
    "                \n",
    "            # 把retrieved axtree格式化\n",
    "            for node in format_node(raw_retrieved_axtree):\n",
    "                node += '\\n'\n",
    "                retrieved_axtree += node\n",
    "            restore_retrieved_dir = f\"{retrieved_axtree_dir}/{user_name}/{task_num}\"\n",
    "            restore_retrieved_path = f\"{restore_retrieved_dir}/{step_num}.txt\"\n",
    "            if not os.path.exists(restore_retrieved_dir):\n",
    "                os.makedirs(restore_retrieved_dir)\n",
    "            with open(restore_retrieved_path, \"w\") as f:\n",
    "                f.write(retrieved_axtree)\n",
    "        new_steps_ls.append(new_step)\n",
    "    new_task[\"steps\"] = json.dumps(new_steps_ls)\n",
    "    new_user_annotate_data.append(new_task)\n",
    "\n",
    "new_user_annotate_file = os.path.join(user_annotate_dir, user_name + \"_new.json\")\n",
    "print(new_user_annotate_file)\n",
    "\n",
    "with open(new_user_annotate_file, \"w\") as f:\n",
    "    json.dump(new_user_annotate_data, f, ensure_ascii=False, indent=2)\n",
    "\n",
    "print(f\"axtid_cnt: {axtid_cnt}, node_not_found_cnt: {not_found_cnt}, total_cnt: {total_cnt}\")"
   ]
  },
  {
   "cell_type": "code",
   "execution_count": null,
   "metadata": {},
   "outputs": [],
   "source": []
  },
  {
   "cell_type": "markdown",
   "metadata": {},
   "source": [
    "# 第二步，组sft数据，按user存储"
   ]
  },
  {
   "cell_type": "code",
   "execution_count": 9,
   "metadata": {},
   "outputs": [],
   "source": [
    "prompt_system = '''\n",
    "# CONTEXT\n",
    "\n",
    "You are an autonomous intelligent agent tasked with navigating a web browser to accomplish various web-based tasks. Your success depends on effectively utilizing the specific actions available to you. Below is the information and guidance you will have during the task:\n",
    "\n",
    "## TASK INFORMATION\n",
    "\n",
    "1. **User's Objective**: The goal you are tasked to achieve.  \n",
    "2. **Current Web Page's Accessibility Tree**: A simplified representation of the webpage, providing key information about its elements.  \n",
    "3. **Current Web Page's URL**: The URL of the page you are currently viewing.  \n",
    "4. **Previous Action List**: A record of all the actions you have performed so far, useful for tracking your progress.  \n",
    "\n",
    "## AVAILABLE ACTIONS\n",
    "\n",
    "### 1. **Page Operation Actions**\n",
    "- `click [id]`: Click on a webpage element identified by its `id`.  \n",
    "- `type [id][content]`: Type `content` into the field with the specified `id`.  \n",
    "- `copy [id]`: Copy the content of an element identified by its `id`.  \n",
    "- `paste [id]`: Paste previously copied content into a field identified by its `id`.  \n",
    "- `cache [id]`: Cache the information or value from the element with the specified `id` for later use.  \n",
    "- `hover [id]`: Hover over an element identified by its `id`.  \n",
    "- `press_enter`: Simulate pressing the \"Enter\" key.  \n",
    "- `double_click [id]`: Perform a double click on the element identified by its `id`.  \n",
    "- `right_click [id]`: Perform a right-click on the element identified by its `id`.  \n",
    "- `select [id]`: Select text within an element identified by its `id`.  \n",
    "\n",
    "### 2. **Navigation Actions**\n",
    "- `back`: Return to the previously viewed page.  \n",
    "\n",
    "### 3. **Completion Action**\n",
    "- `stop [answer]`: Use this action when you believe the task is complete. Provide the result inside the brackets:  \n",
    "  - For text-based answers, write the answer directly.  \n",
    "  - If the task is impossible to complete, use `\"N/A\"` as the answer.  \n",
    "\n",
    "## RULES\n",
    "\n",
    "1. Only issue actions that are valid based on the current observation.  \n",
    "2. Perform one action at a time.  \n",
    "3. Follow the reasoning examples and proceed step by step before issuing the next action.  \n",
    "4. Format actions correctly. Use the following structure:  \n",
    "   - Start with: *\"In summary, the next action I will perform is\"*  \n",
    "   - Followed by the action in backticks, e.g., `click [1234]`.  \n",
    "5. Use the `stop` action once you achieve the objective. Do not generate any further output after issuing the `stop` action.  \n",
    "\n",
    "By adhering to these instructions and leveraging the available actions effectively, you will successfully complete the assigned web-based tasks.\n",
    "'''"
   ]
  },
  {
   "cell_type": "code",
   "execution_count": 10,
   "metadata": {},
   "outputs": [],
   "source": [
    "prompt_input_template = '''\n",
    "# OBSERVATION\n",
    "\n",
    "{full_axtree}\n",
    "\n",
    "# URL\n",
    "\n",
    "{url}\n",
    "\n",
    "# OBJECTIVE\n",
    "\n",
    "{objective}\n",
    "\n",
    "# PREVIOUS ACTIONS\n",
    "\n",
    "{action_list}\n",
    "'''"
   ]
  },
  {
   "cell_type": "code",
   "execution_count": 11,
   "metadata": {},
   "outputs": [],
   "source": [
    "prompt_output_template = '''\n",
    "First, Let's find the most relevant part of axtree that I need:\n",
    "\n",
    "{retrieved_axtree}\n",
    "\n",
    "Therefore, the next action I will perform is:\n",
    "\n",
    "```json\n",
    "{action}\n",
    "```\n",
    "'''"
   ]
  },
  {
   "cell_type": "code",
   "execution_count": 40,
   "metadata": {},
   "outputs": [],
   "source": [
    "action_template = '''\n",
    "## Action {i}\n",
    "- action_type: {action_type}\n",
    "- action_value: {action_value}\n",
    "'''"
   ]
  },
  {
   "cell_type": "code",
   "execution_count": 23,
   "metadata": {},
   "outputs": [],
   "source": [
    "sft_data_dir = f\"./sft_data/{user_name}\""
   ]
  },
  {
   "cell_type": "markdown",
   "metadata": {},
   "source": [
    "组sft数据主要是选择output中的step，然后把前面的step拼成一个action list。\n",
    "组出input，output，system，url这几个字段"
   ]
  },
  {
   "cell_type": "code",
   "execution_count": 41,
   "metadata": {},
   "outputs": [],
   "source": [
    "import json\n",
    "\n",
    "def get_prompt_input(formatted_axtree, href, objective, step_num, steps):\n",
    "    action_list = \"\"\n",
    "    for previous_step_num, previous_step in enumerate(steps):\n",
    "        tmp_action = \"\"\n",
    "        if previous_step_num < step_num:\n",
    "            action_type = previous_step[\"type\"]\n",
    "            action_value = previous_step[\"value\"]\n",
    "            tmp_action = action_template.format(i=previous_step_num, action_type=action_type, action_value=action_value)\n",
    "            action_list += tmp_action\n",
    "        else:\n",
    "            break\n",
    "\n",
    "    return prompt_input_template.format(full_axtree=formatted_axtree.strip(), url=href, objective=objective, action_list=action_list)"
   ]
  },
  {
   "cell_type": "code",
   "execution_count": 42,
   "metadata": {},
   "outputs": [],
   "source": [
    "for task_num, task in enumerate(new_user_annotate_data):\n",
    "    steps = json.loads(task[\"steps\"])\n",
    "    objective = task['title']\n",
    "    for step_num, step in enumerate(steps):\n",
    "        if \"axTree\" in step.keys() and step[\"axTree\"] != \"\":\n",
    "            restore_sft_dir = f'{sft_data_dir}/{task_num}'\n",
    "            output_file = f'{restore_sft_dir}/{step_num}.json'\n",
    "            if not os.path.exists(restore_sft_dir):\n",
    "                os.makedirs(restore_sft_dir)\n",
    "            output = open(output_file, 'w')\n",
    "\n",
    "            data_dict = {}\n",
    "            formatted_axtree_path = f\"./formatted_axtree/{user_name}/{task_num}/{step_num}.txt\"\n",
    "            retrieved_axtree_path = f\"./retrieved_axtree/{user_name}/{task_num}/{step_num}.txt\"\n",
    "            formatted_axtree = open(formatted_axtree_path, 'r').read()\n",
    "            retrieved_axtree = open(retrieved_axtree_path, 'r').read()\n",
    "            \n",
    "            # 如果retrieved_axtree或formatted_axtree为空，则跳过，筛选掉没有找到node的step（没有axtId）\n",
    "            if len(retrieved_axtree) == 0 or len(formatted_axtree) == 0:\n",
    "                continue\n",
    "            \n",
    "            prompt_input = get_prompt_input(formatted_axtree, step[\"href\"], objective, step_num, copy.deepcopy(steps))\n",
    "            action = {\n",
    "                \"action_type\": step[\"type\"],\n",
    "                \"action_id\": step[\"axtId\"],\n",
    "                \"action_value\": step[\"value\"]\n",
    "            }\n",
    "            action = json.dumps(action, ensure_ascii=False, indent=2)\n",
    "            prompt_output = prompt_output_template.format(retrieved_axtree=retrieved_axtree.strip(), action=action)\n",
    "            data_dict[step_num] = {\n",
    "                \"prompt_system\": prompt_system,\n",
    "                \"prompt_input\": prompt_input,\n",
    "                \"prompt_output\": prompt_output,\n",
    "                \"url\": step[\"href\"],\n",
    "                \"user_name\": user_name,\n",
    "                \"task_num\": task_num,\n",
    "                \"step_num\": step_num\n",
    "            }\n",
    "\n",
    "            output.write(json.dumps(data_dict, ensure_ascii=False)+'\\n')\n",
    "            output.close()"
   ]
  }
 ],
 "metadata": {
  "kernelspec": {
   "display_name": "sft_base",
   "language": "python",
   "name": "python3"
  },
  "language_info": {
   "codemirror_mode": {
    "name": "ipython",
    "version": 3
   },
   "file_extension": ".py",
   "mimetype": "text/x-python",
   "name": "python",
   "nbconvert_exporter": "python",
   "pygments_lexer": "ipython3",
   "version": "3.10.16"
  }
 },
 "nbformat": 4,
 "nbformat_minor": 2
}
